{
      "cells": [
            {
                  "cell_type": "code",
                  "execution_count": 1,
                  "metadata": {},
                  "outputs": [],
                  "source": [
                        "from CPAC.nuisance.utils.compcor import cosine_filter"
                  ]
            },
            {
                  "cell_type": "code",
                  "execution_count": 2,
                  "metadata": {},
                  "outputs": [],
                  "source": [
                        "import os"
                  ]
            },
            {
                  "cell_type": "code",
                  "execution_count": 3,
                  "metadata": {},
                  "outputs": [],
                  "source": [
                        "img = \"/home/biraj/test/sub-NDARAA504CRN_task-rest_run-1_bold_original.nii.gz\"\n",
                        "timestep = 0.8"
                  ]
            },
            {
                  "cell_type": "code",
                  "execution_count": 4,
                  "metadata": {},
                  "outputs": [
                        {
                              "name": "stdout",
                              "output_type": "stream",
                              "text": [
                                    "\n",
                                    "    input_image_path: string\n",
                                    "            Bold image to be filtered.\n",
                                    "    timestep: float\n",
                                    "            'Repetition time (TR) of series (in sec) - derived from image header if unspecified'\n",
                                    "    period_cut: float\n",
                                    "            Minimum period (in sec) for DCT high-pass filter, nipype default value: 128\n",
                                    "\n",
                                    "    \n"
                              ]
                        }
                  ],
                  "source": [
                        "print(cosine_filter.__doc__)"
                  ]
            },
            {
                  "cell_type": "code",
                  "execution_count": 6,
                  "metadata": {},
                  "outputs": [
                        {
                              "name": "stderr",
                              "output_type": "stream",
                              "text": [
                                    "/code/CPAC/nuisance/utils/compcor.py:91: FutureWarning: `rcond` parameter will change to the default of machine precision times ``max(M, N)`` where M and N are the input matrix dimensions.\n",
                                    "To use the future default and silence this warning we advise to pass `rcond=None`, to keep using the old, explicitly pass `rcond=-1`.\n",
                                    "  betas = np.linalg.lstsq(X, input_data.T)[0]\n"
                              ]
                        },
                        {
                              "data": {
                                    "text/plain": [
                                          "'/home/biraj/test/sub-NDARAA504CRN_task-rest_run-1_bold_original.nii.gz'"
                                    ]
                              },
                              "execution_count": 6,
                              "metadata": {},
                              "output_type": "execute_result"
                        }
                  ],
                  "source": [
                        "cosine_filter(img, timestep)"
                  ]
            },
            {
                  "cell_type": "code",
                  "execution_count": null,
                  "metadata": {},
                  "outputs": [],
                  "source": []
            }
      ],
      "metadata": {
            "kernelspec": {
                  "display_name": "Python 3 (ipykernel)",
                  "language": "python",
                  "name": "python3"
            },
            "language_info": {
                  "codemirror_mode": {
                        "name": "ipython",
                        "version": 3
                  },
                  "file_extension": ".py",
                  "mimetype": "text/x-python",
                  "name": "python",
                  "nbconvert_exporter": "python",
                  "pygments_lexer": "ipython3",
                  "version": "3.10.6"
            }
      },
      "nbformat": 4,
      "nbformat_minor": 4
}