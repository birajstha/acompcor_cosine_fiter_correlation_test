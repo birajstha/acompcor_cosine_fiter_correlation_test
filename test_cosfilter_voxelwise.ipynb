{
 "cells": [
  {
   "cell_type": "code",
   "execution_count": 1,
   "metadata": {},
   "outputs": [],
   "source": [
    "from CPAC.nuisance.utils.compcor import cosine_filter"
   ]
  },
  {
   "cell_type": "code",
   "execution_count": 2,
   "metadata": {},
   "outputs": [],
   "source": [
    "import os"
   ]
  },
  {
   "cell_type": "code",
   "execution_count": 3,
   "metadata": {},
   "outputs": [],
   "source": [
    "img = \"/home/biraj/test/sub-NDARAA504CRN_task-rest_run-1_bold_VW.nii.gz\"\n",
    "timestep = 0.8"
   ]
  },
  {
   "cell_type": "code",
   "execution_count": 4,
   "metadata": {},
   "outputs": [
    {
     "name": "stdout",
     "output_type": "stream",
     "text": [
      "\n",
      "    The function applies a cosine filter to the input BOLD image using the discrete cosine transform (DCT) method.\n",
      "    \n",
      "    Adapted from nipype implementation. https://github.com/nipy/nipype/blob/d353f0d/nipype/algorithms/confounds.py#L1086-L1107\n",
      "    It removes the low-frequency drift from the voxel time series. The filtered image is saved to disk.\n",
      "\n",
      "\n",
      "    Parameters\n",
      "    ----------\n",
      "    input_image_path : str\n",
      "        Path to the BOLD image to be filtered.\n",
      "    timestep : float\n",
      "        Repetition time (TR) of the series (in seconds). Derived from image header if unspecified.\n",
      "    period_cut : float, optional\n",
      "        Minimum period (in seconds) for the DCT high-pass filter. Default value is 128.\n",
      "    remove_mean : bool, optional\n",
      "        Whether to remove the mean from the voxel time series before filtering. Default is True.\n",
      "    axis : int, optional\n",
      "        The axis along which to apply the filter. Default is -1 (last axis).\n",
      "    failure_mode : {'error', 'ignore'}, optional\n",
      "        Specifies how to handle failure modes. If set to 'error', the function raises an error.\n",
      "        If set to 'ignore', it returns the input data unchanged in case of failure. Default is 'error'.\n",
      "\n",
      "    Returns\n",
      "    -------\n",
      "    cosfiltered_img : str\n",
      "        Path to the filtered BOLD image.\n",
      "\n",
      "    \n"
     ]
    }
   ],
   "source": [
    "print(cosine_filter.__doc__)"
   ]
  },
  {
   "cell_type": "code",
   "execution_count": 5,
   "metadata": {},
   "outputs": [
    {
     "name": "stdout",
     "output_type": "stream",
     "text": [
      "calculating 1 of 84 row of voxels\n",
      "calculating 2 of 84 row of voxels\n",
      "calculating 3 of 84 row of voxels\n",
      "calculating 4 of 84 row of voxels\n",
      "calculating 5 of 84 row of voxels\n",
      "calculating 6 of 84 row of voxels\n",
      "calculating 7 of 84 row of voxels\n",
      "calculating 8 of 84 row of voxels\n",
      "calculating 9 of 84 row of voxels\n",
      "calculating 10 of 84 row of voxels\n",
      "calculating 11 of 84 row of voxels\n",
      "calculating 12 of 84 row of voxels\n",
      "calculating 13 of 84 row of voxels\n",
      "calculating 14 of 84 row of voxels\n",
      "calculating 15 of 84 row of voxels\n",
      "calculating 16 of 84 row of voxels\n",
      "calculating 17 of 84 row of voxels\n",
      "calculating 18 of 84 row of voxels\n",
      "calculating 19 of 84 row of voxels\n",
      "calculating 20 of 84 row of voxels\n",
      "calculating 21 of 84 row of voxels\n",
      "calculating 22 of 84 row of voxels\n",
      "calculating 23 of 84 row of voxels\n",
      "calculating 24 of 84 row of voxels\n",
      "calculating 25 of 84 row of voxels\n",
      "calculating 26 of 84 row of voxels\n",
      "calculating 27 of 84 row of voxels\n",
      "calculating 28 of 84 row of voxels\n",
      "calculating 29 of 84 row of voxels\n",
      "calculating 30 of 84 row of voxels\n",
      "calculating 31 of 84 row of voxels\n",
      "calculating 32 of 84 row of voxels\n",
      "calculating 33 of 84 row of voxels\n",
      "calculating 34 of 84 row of voxels\n",
      "calculating 35 of 84 row of voxels\n",
      "calculating 36 of 84 row of voxels\n",
      "calculating 37 of 84 row of voxels\n",
      "calculating 38 of 84 row of voxels\n",
      "calculating 39 of 84 row of voxels\n",
      "calculating 40 of 84 row of voxels\n",
      "calculating 41 of 84 row of voxels\n",
      "calculating 42 of 84 row of voxels\n",
      "calculating 43 of 84 row of voxels\n",
      "calculating 44 of 84 row of voxels\n",
      "calculating 45 of 84 row of voxels\n",
      "calculating 46 of 84 row of voxels\n",
      "calculating 47 of 84 row of voxels\n",
      "calculating 48 of 84 row of voxels\n",
      "calculating 49 of 84 row of voxels\n",
      "calculating 50 of 84 row of voxels\n",
      "calculating 51 of 84 row of voxels\n",
      "calculating 52 of 84 row of voxels\n",
      "calculating 53 of 84 row of voxels\n",
      "calculating 54 of 84 row of voxels\n",
      "calculating 55 of 84 row of voxels\n",
      "calculating 56 of 84 row of voxels\n",
      "calculating 57 of 84 row of voxels\n",
      "calculating 58 of 84 row of voxels\n",
      "calculating 59 of 84 row of voxels\n",
      "calculating 60 of 84 row of voxels\n",
      "calculating 61 of 84 row of voxels\n",
      "calculating 62 of 84 row of voxels\n",
      "calculating 63 of 84 row of voxels\n",
      "calculating 64 of 84 row of voxels\n",
      "calculating 65 of 84 row of voxels\n",
      "calculating 66 of 84 row of voxels\n",
      "calculating 67 of 84 row of voxels\n",
      "calculating 68 of 84 row of voxels\n",
      "calculating 69 of 84 row of voxels\n",
      "calculating 70 of 84 row of voxels\n",
      "calculating 71 of 84 row of voxels\n",
      "calculating 72 of 84 row of voxels\n",
      "calculating 73 of 84 row of voxels\n",
      "calculating 74 of 84 row of voxels\n",
      "calculating 75 of 84 row of voxels\n",
      "calculating 76 of 84 row of voxels\n",
      "calculating 77 of 84 row of voxels\n",
      "calculating 78 of 84 row of voxels\n",
      "calculating 79 of 84 row of voxels\n",
      "calculating 80 of 84 row of voxels\n",
      "calculating 81 of 84 row of voxels\n",
      "calculating 82 of 84 row of voxels\n",
      "calculating 83 of 84 row of voxels\n",
      "calculating 84 of 84 row of voxels\n"
     ]
    },
    {
     "data": {
      "text/plain": [
       "'/home/biraj/test/sub-NDARAA504CRN_task-rest_run-1_bold_VW.nii.gz'"
      ]
     },
     "execution_count": 5,
     "metadata": {},
     "output_type": "execute_result"
    }
   ],
   "source": [
    "cosine_filter(img, timestep)"
   ]
  },
  {
   "cell_type": "code",
   "execution_count": null,
   "metadata": {},
   "outputs": [],
   "source": []
  }
 ],
 "metadata": {
  "kernelspec": {
   "display_name": "Python 3 (ipykernel)",
   "language": "python",
   "name": "python3"
  },
  "language_info": {
   "codemirror_mode": {
    "name": "ipython",
    "version": 3
   },
   "file_extension": ".py",
   "mimetype": "text/x-python",
   "name": "python",
   "nbconvert_exporter": "python",
   "pygments_lexer": "ipython3",
   "version": "3.10.6"
  }
 },
 "nbformat": 4,
 "nbformat_minor": 4
}
